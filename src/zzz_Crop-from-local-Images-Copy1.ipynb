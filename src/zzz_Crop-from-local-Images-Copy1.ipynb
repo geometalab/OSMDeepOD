{
 "cells": [
  {
   "cell_type": "code",
   "execution_count": 13,
   "metadata": {
    "scrolled": true
   },
   "outputs": [
    {
     "name": "stdout",
     "output_type": "stream",
     "text": [
      "Reading package lists... Done\n",
      "Building dependency tree       \n",
      "Reading state information... Done\n",
      "gdal-bin is already the newest version (2.2.3+dfsg-2).\n",
      "0 upgraded, 0 newly installed, 0 to remove and 19 not upgraded.\n"
     ]
    }
   ],
   "source": [
    "!apt install gdal-bin -y"
   ]
  },
  {
   "cell_type": "code",
   "execution_count": 27,
   "metadata": {},
   "outputs": [
    {
     "name": "stdout",
     "output_type": "stream",
     "text": [
      "Collecting pip\n",
      "  Downloading pip-21.3-py3-none-any.whl (1.7 MB)\n",
      "\u001b[K     |████████████████████████████████| 1.7 MB 6.3 MB/s eta 0:00:01\n",
      "\u001b[?25hInstalling collected packages: pip\n",
      "  Attempting uninstall: pip\n",
      "    Found existing installation: pip 20.2.4\n",
      "    Uninstalling pip-20.2.4:\n",
      "      Successfully uninstalled pip-20.2.4\n",
      "Successfully installed pip-21.3\n",
      "Requirement already satisfied: rasterio in /usr/local/lib/python3.6/dist-packages (1.2.10)\n",
      "Requirement already satisfied: turfpy in /usr/local/lib/python3.6/dist-packages (0.0.7)\n",
      "Requirement already satisfied: snuggs>=1.4.1 in /usr/local/lib/python3.6/dist-packages (from rasterio) (1.4.7)\n",
      "Requirement already satisfied: attrs in /usr/local/lib/python3.6/dist-packages (from rasterio) (21.2.0)\n",
      "Requirement already satisfied: affine in /usr/local/lib/python3.6/dist-packages (from rasterio) (2.3.0)\n",
      "Requirement already satisfied: cligj>=0.5 in /usr/local/lib/python3.6/dist-packages (from rasterio) (0.7.2)\n",
      "Requirement already satisfied: click-plugins in /usr/local/lib/python3.6/dist-packages (from rasterio) (1.1.1)\n",
      "Requirement already satisfied: click>=4.0 in /usr/local/lib/python3.6/dist-packages (from rasterio) (6.6)\n",
      "Requirement already satisfied: setuptools in /usr/local/lib/python3.6/dist-packages (from rasterio) (57.4.0)\n",
      "Requirement already satisfied: numpy in /usr/local/lib/python3.6/dist-packages (from rasterio) (1.11.3)\n",
      "Requirement already satisfied: certifi in /usr/local/lib/python3.6/dist-packages (from rasterio) (2021.5.30)\n",
      "Requirement already satisfied: scipy in /usr/local/lib/python3.6/dist-packages (from turfpy) (1.5.4)\n",
      "Requirement already satisfied: geojson in /usr/local/lib/python3.6/dist-packages (from turfpy) (2.5.0)\n",
      "Requirement already satisfied: shapely in /usr/local/lib/python3.6/dist-packages (from turfpy) (1.7.1)\n",
      "Requirement already satisfied: pyparsing>=2.1.6 in /usr/local/lib/python3.6/dist-packages (from snuggs>=1.4.1->rasterio) (2.4.7)\n",
      "Collecting numpy\n",
      "  Downloading numpy-1.19.5-cp36-cp36m-manylinux2010_x86_64.whl (14.8 MB)\n",
      "     |████████████████████████████████| 14.8 MB 5.7 MB/s            \n",
      "\u001b[?25hInstalling collected packages: numpy\n",
      "  Attempting uninstall: numpy\n",
      "    Found existing installation: numpy 1.11.3\n",
      "    Uninstalling numpy-1.11.3:\n",
      "      Successfully uninstalled numpy-1.11.3\n",
      "\u001b[31mERROR: pip's dependency resolver does not currently take into account all the packages that are installed. This behaviour is the source of the following dependency conflicts.\n",
      "tensorboard 2.6.0 requires requests<3,>=2.21.0, but you have requests 2.5.2 which is incompatible.\n",
      "matplotlib 3.3.4 requires pillow>=6.2.0, but you have pillow 2.6.1 which is incompatible.\u001b[0m\n",
      "Successfully installed numpy-1.19.5\n",
      "\u001b[33mWARNING: Running pip as the 'root' user can result in broken permissions and conflicting behaviour with the system package manager. It is recommended to use a virtual environment instead: https://pip.pypa.io/warnings/venv\u001b[0m\n"
     ]
    }
   ],
   "source": [
    "!pip install -U pip\n",
    "!pip install rasterio turfpy"
   ]
  },
  {
   "cell_type": "code",
   "execution_count": 43,
   "metadata": {},
   "outputs": [
    {
     "name": "stdout",
     "output_type": "stream",
     "text": [
      "0...10..Warning 6: gdalbuildvrt does not support ungeoreferenced image. Skipping 20190914_1211_12504_0_4.tif\n",
      ".20...30...40...50...60...70...80...90...100 - done.\n"
     ]
    }
   ],
   "source": [
    "CRS = \"EPSG:2056\"\n",
    "!cd test-data/sample && rm -f sample.vrt && gdalbuildvrt -a_srs $CRS sample.vrt *.tif"
   ]
  },
  {
   "cell_type": "code",
   "execution_count": 44,
   "metadata": {},
   "outputs": [],
   "source": [
    "INPUT_DATA = 'test-data/sample/sample.vrt'"
   ]
  },
  {
   "cell_type": "code",
   "execution_count": 67,
   "metadata": {},
   "outputs": [],
   "source": [
    "DEST_FOLDER = 'test-data/output/'\n",
    "!mkdir -p $DEST_FOLDER"
   ]
  },
  {
   "cell_type": "code",
   "execution_count": 55,
   "metadata": {},
   "outputs": [
    {
     "data": {
      "text/plain": [
       "{\"coordinates\": [[[9.3014, 47.15686], [9.31869, 47.15686], [9.31869, 47.1659], [9.3014, 47.1659], [9.3014, 47.15686]]], \"type\": \"Polygon\"}"
      ]
     },
     "execution_count": 55,
     "metadata": {},
     "output_type": "execute_result"
    }
   ],
   "source": [
    "import json\n",
    "from turfpy.measurement import bbox_polygon, bbox\n",
    "\n",
    "bbox_wgs84 = [9.30140,47.15686 , 9.31869,47.16590]\n",
    "bbox_espg2056 = [2739329,1223884, 2744413,1226542]\n",
    "polygon = bbox_polygon(bbox_wgs84)\n",
    "polygon.geometry"
   ]
  },
  {
   "cell_type": "code",
   "execution_count": 69,
   "metadata": {},
   "outputs": [],
   "source": [
    "import rasterio\n",
    "import rasterio.mask\n",
    "import rasterio.vrt\n",
    "\n",
    "def cut_image(src_file, bounding_boxes, destination_folder):\n",
    "    with rasterio.open(INPUT_DATA) as src:\n",
    "        with rasterio.vrt.WarpedVRT(src, src_crs=\"EPSG:2056\", crs='EPSG:4236') as vrt:\n",
    "            for index, bounding_box in enumerate(bounding_boxes):\n",
    "                polygon = bbox_polygon(bounding_box)\n",
    "                out_image, out_transform = rasterio.mask.mask(vrt, [polygon.geometry], crop=True)\n",
    "                out_meta = src.meta\n",
    "                out_meta.update({\n",
    "                    \"driver\": \"GTiff\",\n",
    "                     \"height\": out_image.shape[1],\n",
    "                     \"width\": out_image.shape[2],\n",
    "                     \"transform\": out_transform,\n",
    "                })\n",
    "                with rasterio.open(f\"{destination_folder}{index}.tiff\", \"w\", **out_meta) as dest:\n",
    "                    dest.write(out_image)"
   ]
  },
  {
   "cell_type": "code",
   "execution_count": 71,
   "metadata": {},
   "outputs": [],
   "source": [
    "bbox_0 = [9.30140, 47.15686 , 9.31869, 47.16590]\n",
    "bbox_1 = [9.294078,47.133949 , 9.311906,47.143270]\n",
    "\n",
    "cut_image(INPUT_DATA, [bbox_0, bbox_1], DEST_FOLDER)\n"
   ]
  },
  {
   "cell_type": "code",
   "execution_count": 2,
   "metadata": {},
   "outputs": [
    {
     "ename": "NameError",
     "evalue": "name 'thumbnail' is not defined",
     "output_type": "error",
     "traceback": [
      "\u001b[0;31m---------------------------------------------------------------------------\u001b[0m",
      "\u001b[0;31mNameError\u001b[0m                                 Traceback (most recent call last)",
      "\u001b[0;32m/tmp/ipykernel_101/3096191261.py\u001b[0m in \u001b[0;36m<module>\u001b[0;34m\u001b[0m\n\u001b[1;32m      1\u001b[0m \u001b[0;32mimport\u001b[0m \u001b[0mmatplotlib\u001b[0m \u001b[0;32mas\u001b[0m \u001b[0mplt\u001b[0m\u001b[0;34m\u001b[0m\u001b[0;34m\u001b[0m\u001b[0m\n\u001b[1;32m      2\u001b[0m \u001b[0;34m\u001b[0m\u001b[0m\n\u001b[0;32m----> 3\u001b[0;31m \u001b[0mprint\u001b[0m\u001b[0;34m(\u001b[0m\u001b[0;34m'array type: '\u001b[0m\u001b[0;34m,\u001b[0m\u001b[0mtype\u001b[0m\u001b[0;34m(\u001b[0m\u001b[0mthumbnail\u001b[0m\u001b[0;34m)\u001b[0m\u001b[0;34m)\u001b[0m\u001b[0;34m\u001b[0m\u001b[0;34m\u001b[0m\u001b[0m\n\u001b[0m\u001b[1;32m      4\u001b[0m \u001b[0mprint\u001b[0m\u001b[0;34m(\u001b[0m\u001b[0mthumbnail\u001b[0m\u001b[0;34m)\u001b[0m\u001b[0;34m\u001b[0m\u001b[0;34m\u001b[0m\u001b[0m\n\u001b[1;32m      5\u001b[0m \u001b[0;34m\u001b[0m\u001b[0m\n",
      "\u001b[0;31mNameError\u001b[0m: name 'thumbnail' is not defined"
     ]
    }
   ],
   "source": [
    "import matplotlib as plt\n",
    "\n",
    "print('array type: ',type(thumbnail))\n",
    "print(thumbnail)\n",
    "\n",
    "plt.imshow(thumbnail)\n",
    "plt.colorbar()\n",
    "plt.title('Overview - Band 4 {}'.format(thumbnail.shape))\n",
    "plt.xlabel('Column #')\n",
    "plt.ylabel('Row #')"
   ]
  },
  {
   "cell_type": "code",
   "execution_count": null,
   "metadata": {},
   "outputs": [],
   "source": []
  }
 ],
 "metadata": {
  "kernelspec": {
   "display_name": "Python 3 (ipykernel)",
   "language": "python",
   "name": "python3"
  },
  "language_info": {
   "codemirror_mode": {
    "name": "ipython",
    "version": 3
   },
   "file_extension": ".py",
   "mimetype": "text/x-python",
   "name": "python",
   "nbconvert_exporter": "python",
   "pygments_lexer": "ipython3",
   "version": "3.9.7"
  }
 },
 "nbformat": 4,
 "nbformat_minor": 4
}

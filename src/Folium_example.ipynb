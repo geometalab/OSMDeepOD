{
 "cells": [
  {
   "cell_type": "code",
   "execution_count": 1,
   "id": "8746debc-744b-4f3b-89ff-6237c0c8233a",
   "metadata": {},
   "outputs": [],
   "source": [
    "# import constants and helpers\n",
    "%run Constants.ipynb"
   ]
  },
  {
   "cell_type": "code",
   "execution_count": 6,
   "id": "c3d55e1b-1135-4da7-8741-a3f0e6d84757",
   "metadata": {},
   "outputs": [],
   "source": [
    "from sidecar import Sidecar\n",
    "import ipywidgets as widgets\n",
    "from ipyleaflet import (\n",
    "    Map, ImageOverlay, DrawControl, WidgetControl\n",
    ")\n",
    "from matplotlib import pyplot as plt\n",
    "\n",
    "def get_draw_control():\n",
    "    draw_control = DrawControl()\n",
    "    draw_control.polyline =  {}\n",
    "    draw_control.polygon = {\n",
    "        # \"shapeOptions\": {\n",
    "        #     \"fillColor\": \"#6be5c3\",\n",
    "        #     \"color\": \"#6be5c3\",\n",
    "        #     \"fillOpacity\": 1.0\n",
    "        # },\n",
    "        \"allowIntersection\": False\n",
    "    }\n",
    "    draw_control.circle = {}\n",
    "    draw_control.rectangle = {}\n",
    "    draw_control.circlemarker = {}\n",
    "    return draw_control\n",
    "\n",
    "\n",
    "def create_button_widgets(*, options: dict, position='bottomright'):\n",
    "    buttons = []\n",
    "    for name, content in options.items():\n",
    "        button = widgets.Button(\n",
    "            description=name,\n",
    "            disabled=False,\n",
    "            button_style=content.get('style', 'info'), # 'success', 'info', 'warning', 'danger' or ''\n",
    "            tooltip=name,\n",
    "            layout=widgets.Layout(width='100%', height='100%'),\n",
    "            # icon='check' # (FontAwesome names without the `fa-` prefix)\n",
    "        )\n",
    "        button.on_click(content.get('callback'))\n",
    "        buttons.append(button)\n",
    "    hbox_widget = widgets.HBox(buttons)\n",
    "    widget_control = WidgetControl(widget=hbox_widget, position=position)\n",
    "    return widget_control\n",
    "\n",
    "\n",
    "def create_map(*args, **kwargs) -> Map:\n",
    "    default = dict(\n",
    "        zoom=19,\n",
    "        # zoom_control=True,\n",
    "        # min_zoom=18,\n",
    "        max_zoom=25,\n",
    "        # dragging=False,\n",
    "    )\n",
    "    default.update(kwargs)\n",
    "    m = Map(**default)\n",
    "    sidecar = Sidecar(title='Map')\n",
    "    with sidecar:\n",
    "        display(m)\n",
    "    draw_control = get_draw_control()\n",
    "    m.add_control(draw_control)\n",
    "    \n",
    "    return m, sidecar, draw_control"
   ]
  },
  {
   "cell_type": "code",
   "execution_count": 10,
   "id": "2316908b-1125-4de3-ab12-08ed9d665e96",
   "metadata": {},
   "outputs": [],
   "source": [
    "import rasterio as rio\n",
    "from rasterio.plot import reshape_as_raster, reshape_as_image\n",
    "\n",
    "def load_image(img_src, *, bands=[3,1,2], input_crs=CRS_2056, output_crs=CRS_4326, reduction_factor=6000):\n",
    "    with rio.open(img_src, 'r') as src:\n",
    "        bounds = shapely_to_geo_series_crs_conversion(shape=box(*src.bounds), input_crs=input_crs, output_crs=output_crs)\n",
    "        center = [bounds.centroid.y,bounds.centroid.x]\n",
    "        image_data = src.read([3,1,2])\n",
    "    reduced = reduce_depth(image_data, display_min=0, display_max=reduction_factor)\n",
    "    return reduced, bounds, center\n",
    "    \n",
    "def show_next_image_on_map(image, *, m: Map, overlay, draw):\n",
    "    data = draw_control.get_state().get('data')\n",
    "    \n",
    "    if overlay:\n",
    "        m.remove_layer(overlay)\n",
    "    image_reduced, bounds, center = load_image(image)\n",
    "    bounds = bounds.bounds\n",
    "    image_bounds = [[bounds[3], bounds[2]],[bounds[1], bounds[0]]]\n",
    "    map_image = reshape_as_image(image_reduced)\n",
    "    im_overlay = make_imageoverlay(map_image, image_bounds)\n",
    "    m.add_layer(im_overlay)\n",
    "    m.zoom = 20\n",
    "    m.center = center\n",
    "    # m.fit_bounds(image_bounds)\n",
    "    return im_overlay"
   ]
  },
  {
   "cell_type": "code",
   "execution_count": 11,
   "id": "2911e683-ed73-4395-9667-e61286fa6773",
   "metadata": {},
   "outputs": [],
   "source": [
    "RAPPPI_CENTER = [47.2245967,8.8168816]\n",
    "m, sidecar, draw_control = create_map(center=RAPPPI_CENTER)\n",
    "\n",
    "# ugly state\n",
    "im_overlay = None\n",
    "crossing = IMAGES_TIF_FOLDER_CROSSINGS.glob(\"*.tif\")"
   ]
  },
  {
   "cell_type": "code",
   "execution_count": 12,
   "id": "27696202-ba7c-456d-a0b1-7b1f3377ad01",
   "metadata": {},
   "outputs": [],
   "source": [
    "im_overlay = show_next_image_on_map(next(crossing), m=m, overlay=im_overlay, draw=draw_control)\n",
    "\n",
    "def print_callback(*args, **kwargs):\n",
    "    global im_overlay\n",
    "    im_overlay = show_next_image_on_map(next(crossing), m=m, overlay=im_overlay, draw=draw_control)\n",
    "    print(args, kwargs)\n",
    "\n",
    "buttons = {\n",
    "    'next': {\n",
    "        \"callback\": print_callback,\n",
    "        \"style\": \"info\",\n",
    "    },\n",
    "    'prev': {\n",
    "        \"callback\": print_callback,\n",
    "        \"style\": \"info\",\n",
    "    }\n",
    "}\n",
    "button_control = create_button_widgets(options=buttons)\n",
    "m.add_control(button_control)"
   ]
  },
  {
   "cell_type": "code",
   "execution_count": 8,
   "id": "6dde0a39-bc7c-4176-857f-9eb8e961e738",
   "metadata": {},
   "outputs": [
    {
     "name": "stdout",
     "output_type": "stream",
     "text": [
      "[]\n"
     ]
    }
   ],
   "source": [
    "im_overlay = show_next_image_on_map(next(crossing), m=m, overlay=im_overlay, draw=draw_control)"
   ]
  },
  {
   "cell_type": "code",
   "execution_count": null,
   "id": "13f7b2e6-bb44-46ba-9c0f-92875ab86877",
   "metadata": {},
   "outputs": [],
   "source": [
    "draw_control.get_state().get('data')"
   ]
  },
  {
   "cell_type": "code",
   "execution_count": null,
   "id": "56e19c7c-fa2f-48b4-855b-fdafebf2e637",
   "metadata": {},
   "outputs": [],
   "source": [
    "# todo: get data from draw_control\n",
    "draw_control.get_state().get('data')\n",
    "m.remove_layer(im_overlay)"
   ]
  },
  {
   "cell_type": "code",
   "execution_count": null,
   "id": "494e493c-7b42-416e-ba52-71f918689fb6",
   "metadata": {},
   "outputs": [],
   "source": [
    "sidecar.close()"
   ]
  },
  {
   "cell_type": "markdown",
   "id": "3d40fde6-34a6-4d54-8666-b1c5da7971d4",
   "metadata": {},
   "source": [
    "# Appendix"
   ]
  },
  {
   "cell_type": "markdown",
   "id": "811cd4c2-9f40-4dff-9fa3-5e21801ea6db",
   "metadata": {},
   "source": [
    "## find a decent reduction value\n"
   ]
  },
  {
   "cell_type": "code",
   "execution_count": null,
   "id": "4c3f9fb3-fcb3-419b-a148-1cb727feae96",
   "metadata": {},
   "outputs": [],
   "source": [
    "reduction_factor = 6000\n",
    "\n",
    "EXAMPLE_IMAGE = IMAGES_TIF_FOLDER_CROSSINGS / \"8.474699974060059_47.40547180175781_is_crossing_1.tif\"\n",
    "EXAMPLE_IMAGE.exists()\n",
    "\n",
    "import geopandas as gpd\n",
    "import rasterio as rio\n",
    "from shapely.geometry import box\n",
    "from rasterio.plot import reshape_as_raster, reshape_as_image\n",
    "\n",
    "\n",
    "\n",
    "with rio.open(EXAMPLE_IMAGE, 'r') as src:\n",
    "    bounds = shapely_to_geo_series_crs_conversion(shape=box(*src.bounds), input_crs=CRS_2056, output_crs=CRS_4326)\n",
    "    wgs84_center = [bounds.centroid.y,bounds.centroid.x]\n",
    "    image_data = src.read([3,1,2])\n",
    "    reduced = reduce_depth(image_data, display_min=0, display_max=reduction_factor)\n",
    "rio.plot.show(reduced)"
   ]
  },
  {
   "cell_type": "code",
   "execution_count": null,
   "id": "f578ddeb-9539-413a-9a31-6fccbb795add",
   "metadata": {},
   "outputs": [],
   "source": [
    "image_bounds = bounds.bounds\n",
    "image_bounds = [[image_bounds[3], image_bounds[2]],[image_bounds[1], image_bounds[0]]]\n",
    "print(wgs84_center)\n",
    "print(image_bounds)"
   ]
  },
  {
   "cell_type": "code",
   "execution_count": null,
   "id": "a7e8aaf4-9afd-4981-85e6-cdf2711d9391",
   "metadata": {},
   "outputs": [],
   "source": []
  }
 ],
 "metadata": {
  "kernelspec": {
   "display_name": "Python 3 (ipykernel)",
   "language": "python",
   "name": "python3"
  },
  "language_info": {
   "codemirror_mode": {
    "name": "ipython",
    "version": 3
   },
   "file_extension": ".py",
   "mimetype": "text/x-python",
   "name": "python",
   "nbconvert_exporter": "python",
   "pygments_lexer": "ipython3",
   "version": "3.9.7"
  }
 },
 "nbformat": 4,
 "nbformat_minor": 5
}

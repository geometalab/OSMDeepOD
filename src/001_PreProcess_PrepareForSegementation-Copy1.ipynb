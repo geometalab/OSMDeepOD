{
 "cells": [
  {
   "cell_type": "markdown",
   "metadata": {},
   "source": [
    "# create input images for ML\n",
    "\n",
    "From a geotiff datasource, the 10cm raster data from switzerland, currently \"only\" covering mots parts of eastern switzerland.\n",
    "\n",
    "Steps:\n",
    "\n",
    "1. Create Input Files for cutting (vrt)\n",
    "1. cut geodata along paths\n",
    "1. validate images if in correct folder (containing an zebracrossing or not)\n",
    "1. convert images to png for each band\n",
    "1. Done: Use the images in ML\n"
   ]
  },
  {
   "cell_type": "markdown",
   "metadata": {},
   "source": [
    "See Dockerfile for installed dependencies\n",
    "\n",
    "Requirements:\n",
    "* gdal (binaries suffice)\n",
    "\n",
    "Conda:\n",
    "* fastai (just for compatability test)\n",
    "* pyarrow (supporting the feather format)\n",
    "\n",
    "Pip:\n",
    "* rasterio\n",
    "* turfpy\n",
    "* fiona\n",
    "* shapely\n",
    "* pyrosm\n"
   ]
  },
  {
   "cell_type": "markdown",
   "metadata": {},
   "source": [
    "## Constants\n",
    "\n",
    "Run wherever needed, every section should be able to run on its own (well, at least that ist the goal)."
   ]
  },
  {
   "cell_type": "code",
   "execution_count": 1,
   "metadata": {},
   "outputs": [],
   "source": [
    "# import constants and helpers\n",
    "%run 000_Constants.ipynb\n",
    "\n",
    "# see Constants.ipynb to change start values/settings"
   ]
  },
  {
   "cell_type": "markdown",
   "metadata": {},
   "source": [
    "# extract crossings locations from osm\n",
    "\n",
    "within the provided dataset"
   ]
  },
  {
   "cell_type": "markdown",
   "metadata": {},
   "source": [
    "## load pbf\n",
    "\n",
    "and restrict to area of interest"
   ]
  },
  {
   "cell_type": "code",
   "execution_count": null,
   "metadata": {},
   "outputs": [],
   "source": [
    "import pyrosm\n",
    "\n",
    "fetch_pbf()\n",
    "\n",
    "data_bounds = get_bbox_polygon_for_image(INPUT_DATA_VRT, out_crs=CRS_4326)\n",
    "osm = pyrosm.OSM(str(OSM_PBF_DEST.absolute()), bounding_box=data_bounds)"
   ]
  },
  {
   "cell_type": "markdown",
   "metadata": {},
   "source": [
    "Create Area of interest bounding box"
   ]
  },
  {
   "cell_type": "markdown",
   "metadata": {},
   "source": [
    "## filter nodes to get the locations"
   ]
  },
  {
   "cell_type": "code",
   "execution_count": null,
   "metadata": {},
   "outputs": [],
   "source": [
    "# create the network from osm data\n",
    "tag_filter = {\"highway\": [\"crossing\",]}\n",
    "CONFIG = dict(\n",
    "    custom_filter=tag_filter,\n",
    "    osm_keys_to_keep=[\"highway\", \"crossing\", \"crossing_ref\"],\n",
    "    keep_nodes=True,\n",
    "    keep_ways=True,\n",
    "    keep_relations=False,\n",
    ")\n",
    "gdf_nodes = osm.get_data_by_custom_criteria(**CONFIG)"
   ]
  },
  {
   "cell_type": "code",
   "execution_count": null,
   "metadata": {},
   "outputs": [],
   "source": [
    "gdf_nodes.head()"
   ]
  },
  {
   "cell_type": "markdown",
   "metadata": {},
   "source": [
    "## save crossings to disk\n",
    "and free memory"
   ]
  },
  {
   "cell_type": "code",
   "execution_count": null,
   "metadata": {},
   "outputs": [],
   "source": [
    "import json\n",
    "gdf_nodes.to_feather(GEOPANDAS_CROSSINGS_RESULT_FEATHER)\n",
    "gdf_nodes.to_file(GEOPANDAS_CROSSINGS_RESULT_GEOJSON, driver='GeoJSON')"
   ]
  },
  {
   "cell_type": "code",
   "execution_count": null,
   "metadata": {},
   "outputs": [],
   "source": [
    "import gc\n",
    "\n",
    "del gdf_nodes\n",
    "del osm\n",
    "gc.collect()"
   ]
  },
  {
   "cell_type": "markdown",
   "metadata": {},
   "source": [
    "# extract non-crossing locations from osm\n",
    "\n",
    "More or less the same as above, but we use the street network nodes."
   ]
  },
  {
   "cell_type": "code",
   "execution_count": 6,
   "metadata": {},
   "outputs": [],
   "source": [
    "# import constants and helpers\n",
    "%run Constants.ipynb\n",
    "\n",
    "# see Constants.ipynb to change start values/settings"
   ]
  },
  {
   "cell_type": "code",
   "execution_count": 2,
   "metadata": {},
   "outputs": [],
   "source": [
    "import pyrosm\n",
    "\n",
    "fetch_pbf()\n",
    "\n",
    "data_bounds = get_bbox_polygon_for_image(INPUT_DATA_VRT, out_crs=CRS_4326)\n",
    "osm = pyrosm.OSM(str(OSM_PBF_DEST.absolute()), bounding_box=data_bounds)"
   ]
  },
  {
   "cell_type": "code",
   "execution_count": 3,
   "metadata": {},
   "outputs": [
    {
     "data": {
      "text/html": [
       "<div>\n",
       "<style scoped>\n",
       "    .dataframe tbody tr th:only-of-type {\n",
       "        vertical-align: middle;\n",
       "    }\n",
       "\n",
       "    .dataframe tbody tr th {\n",
       "        vertical-align: top;\n",
       "    }\n",
       "\n",
       "    .dataframe thead th {\n",
       "        text-align: right;\n",
       "    }\n",
       "</style>\n",
       "<table border=\"1\" class=\"dataframe\">\n",
       "  <thead>\n",
       "    <tr style=\"text-align: right;\">\n",
       "      <th></th>\n",
       "      <th>lon</th>\n",
       "      <th>lat</th>\n",
       "      <th>tags</th>\n",
       "      <th>timestamp</th>\n",
       "      <th>version</th>\n",
       "      <th>changeset</th>\n",
       "      <th>id</th>\n",
       "      <th>geometry</th>\n",
       "    </tr>\n",
       "  </thead>\n",
       "  <tbody>\n",
       "    <tr>\n",
       "      <th>0</th>\n",
       "      <td>8.495231</td>\n",
       "      <td>47.399632</td>\n",
       "      <td>None</td>\n",
       "      <td>1475399106</td>\n",
       "      <td>12</td>\n",
       "      <td>42577489</td>\n",
       "      <td>249091984</td>\n",
       "      <td>POINT (8.49523 47.39963)</td>\n",
       "    </tr>\n",
       "    <tr>\n",
       "      <th>1</th>\n",
       "      <td>8.495218</td>\n",
       "      <td>47.399589</td>\n",
       "      <td>{'crossing': 'traffic_signals', 'crossing_ref'...</td>\n",
       "      <td>1527602166</td>\n",
       "      <td>3</td>\n",
       "      <td>59369294</td>\n",
       "      <td>1264083863</td>\n",
       "      <td>POINT (8.49522 47.39959)</td>\n",
       "    </tr>\n",
       "    <tr>\n",
       "      <th>2</th>\n",
       "      <td>8.494893</td>\n",
       "      <td>47.398697</td>\n",
       "      <td>{'crossing': 'no', 'highway': 'traffic_signals...</td>\n",
       "      <td>1531092005</td>\n",
       "      <td>5</td>\n",
       "      <td>60520366</td>\n",
       "      <td>1247641714</td>\n",
       "      <td>POINT (8.49489 47.39870)</td>\n",
       "    </tr>\n",
       "    <tr>\n",
       "      <th>3</th>\n",
       "      <td>8.494834</td>\n",
       "      <td>47.398527</td>\n",
       "      <td>None</td>\n",
       "      <td>1529762079</td>\n",
       "      <td>18</td>\n",
       "      <td>60101624</td>\n",
       "      <td>92206459</td>\n",
       "      <td>POINT (8.49483 47.39853)</td>\n",
       "    </tr>\n",
       "    <tr>\n",
       "      <th>4</th>\n",
       "      <td>8.494775</td>\n",
       "      <td>47.398357</td>\n",
       "      <td>{'crossing': 'traffic_signals', 'crossing_ref'...</td>\n",
       "      <td>1535973608</td>\n",
       "      <td>5</td>\n",
       "      <td>62244007</td>\n",
       "      <td>1770708062</td>\n",
       "      <td>POINT (8.49478 47.39836)</td>\n",
       "    </tr>\n",
       "  </tbody>\n",
       "</table>\n",
       "</div>"
      ],
      "text/plain": [
       "        lon        lat                                               tags  \\\n",
       "0  8.495231  47.399632                                               None   \n",
       "1  8.495218  47.399589  {'crossing': 'traffic_signals', 'crossing_ref'...   \n",
       "2  8.494893  47.398697  {'crossing': 'no', 'highway': 'traffic_signals...   \n",
       "3  8.494834  47.398527                                               None   \n",
       "4  8.494775  47.398357  {'crossing': 'traffic_signals', 'crossing_ref'...   \n",
       "\n",
       "    timestamp  version  changeset          id                  geometry  \n",
       "0  1475399106       12   42577489   249091984  POINT (8.49523 47.39963)  \n",
       "1  1527602166        3   59369294  1264083863  POINT (8.49522 47.39959)  \n",
       "2  1531092005        5   60520366  1247641714  POINT (8.49489 47.39870)  \n",
       "3  1529762079       18   60101624    92206459  POINT (8.49483 47.39853)  \n",
       "4  1535973608        5   62244007  1770708062  POINT (8.49478 47.39836)  "
      ]
     },
     "execution_count": 3,
     "metadata": {},
     "output_type": "execute_result"
    }
   ],
   "source": [
    "gdf_nodes, gdf_edges = osm.get_network(network_type=\"driving+service\", nodes=True)\n",
    "gdf_nodes.head()"
   ]
  },
  {
   "cell_type": "code",
   "execution_count": 4,
   "metadata": {},
   "outputs": [
    {
     "data": {
      "text/plain": [
       "63812676"
      ]
     },
     "execution_count": 4,
     "metadata": {},
     "output_type": "execute_result"
    }
   ],
   "source": [
    "# remove pyrosm instance\n",
    "import gc\n",
    "del osm\n",
    "gc.collect()"
   ]
  },
  {
   "cell_type": "markdown",
   "metadata": {},
   "source": [
    "## get all crossings and exclude points within a distance of 25m"
   ]
  },
  {
   "cell_type": "code",
   "execution_count": 9,
   "metadata": {},
   "outputs": [],
   "source": [
    "# filter for crossing\n",
    "def crosswalk_tag_filter(tags: dict):\n",
    "    is_crossing = False\n",
    "    if not tags:\n",
    "        return is_crossing\n",
    "    # see https://wiki.openstreetmap.org/wiki/Key:crossing\n",
    "    # is_marked_crossing = tags.get(\"highway\") == \"crossing\" and tags.get(\"crossing\") == \"marked\"\n",
    "    # is_zebra_1 = tags.get(\"crossing\") == \"zebra\"\n",
    "    # is_zebra_2 = \"crossing\" in tags and tags.get(\"crossing_ref\") == \"zebra\"\n",
    "    if highway_tag := tags.get(\"highway\"):\n",
    "        is_crossing = highway_tag == \"crossing\"\n",
    "    return is_crossing\n",
    "\n",
    "# crosswalk_tag_filter = lambda x: crosswalk_tag_filter(x)\n",
    "filter_condition = gdf_nodes.tags.apply(crosswalk_tag_filter)\n",
    "crossing_locations = gdf_nodes[filter_condition]"
   ]
  },
  {
   "cell_type": "code",
   "execution_count": 10,
   "metadata": {},
   "outputs": [],
   "source": [
    "avoid_locations = crossing_locations.set_crs(CRS_4326)\n",
    "avoid_locations = avoid_locations.to_crs(CRS_3857)\n",
    "avoid_buffered = avoid_locations.buffer(AVOIDING_CROSSINGS_BUFFER_IN_METERS)\n",
    "avoid_buffered = avoid_buffered.to_crs(CRS_4326)\n",
    "crossing_locations = crossing_locations.assign(crossing_areas=avoid_buffered)\n",
    "crossing_locations = crossing_locations.set_geometry('crossing_areas')"
   ]
  },
  {
   "cell_type": "code",
   "execution_count": 11,
   "metadata": {},
   "outputs": [
    {
     "name": "stderr",
     "output_type": "stream",
     "text": [
      "/opt/conda/lib/python3.9/site-packages/geopandas/geodataframe.py:2196: UserWarning: `keep_geom_type=True` in overlay resulted in 27015 dropped geometries of different geometry types than df1 has. Set `keep_geom_type=False` to retain all geometries\n",
      "  return geopandas.overlay(\n"
     ]
    }
   ],
   "source": [
    "# this takes a \"while\" ;-)\n",
    "\n",
    "no_crossing_nodes = gdf_nodes.overlay(crossing_locations, how='symmetric_difference')"
   ]
  },
  {
   "cell_type": "code",
   "execution_count": 12,
   "metadata": {},
   "outputs": [
    {
     "name": "stdout",
     "output_type": "stream",
     "text": [
      "1484468\n",
      "27015\n",
      "1200779\n"
     ]
    }
   ],
   "source": [
    "# sanity check\n",
    "print(len(gdf_nodes))\n",
    "print(len(crossing_locations))\n",
    "print(len(no_crossing_nodes))"
   ]
  },
  {
   "cell_type": "code",
   "execution_count": 13,
   "metadata": {},
   "outputs": [
    {
     "name": "stderr",
     "output_type": "stream",
     "text": [
      "/tmp/ipykernel_2445/3660710726.py:2: UserWarning: this is an initial implementation of Parquet/Feather file support and associated metadata.  This is tracking version 0.1.0 of the metadata specification at https://github.com/geopandas/geo-arrow-spec\n",
      "\n",
      "This metadata specification does not yet make stability promises.  We do not yet recommend using this in a production setting unless you are able to rewrite your Parquet/Feather files.\n",
      "\n",
      "To further ignore this warning, you can do: \n",
      "import warnings; warnings.filterwarnings('ignore', message='.*initial implementation of Parquet.*')\n",
      "  no_crossing_nodes.to_feather(GEOPANDAS_NO_CROSSINGS_RESULT)\n"
     ]
    }
   ],
   "source": [
    "import json\n",
    "no_crossing_nodes.to_feather(GEOPANDAS_NO_CROSSINGS_RESULT)\n",
    "no_crossing_nodes.to_file(GEOPANDAS_NO_CROSSINGS_RESULT_GEOJSON, driver='GeoJSON')"
   ]
  },
  {
   "cell_type": "code",
   "execution_count": 14,
   "metadata": {},
   "outputs": [
    {
     "data": {
      "text/plain": [
       "6"
      ]
     },
     "execution_count": 14,
     "metadata": {},
     "output_type": "execute_result"
    }
   ],
   "source": [
    "import gc\n",
    "\n",
    "del gdf_nodes\n",
    "del no_crossing_nodes\n",
    "gc.collect()"
   ]
  },
  {
   "cell_type": "markdown",
   "metadata": {},
   "source": [
    "# create combined dataframe\n",
    "\n",
    "for a single source of truth and for better reuse"
   ]
  },
  {
   "cell_type": "markdown",
   "metadata": {},
   "source": [
    "## combine and reduce datasets"
   ]
  },
  {
   "cell_type": "code",
   "execution_count": 33,
   "metadata": {},
   "outputs": [],
   "source": [
    "# import constants and helpers\n",
    "%run Constants.ipynb\n",
    "\n",
    "# see Constants.ipynb to change start values/settings"
   ]
  },
  {
   "cell_type": "code",
   "execution_count": 29,
   "metadata": {},
   "outputs": [],
   "source": [
    "import geopandas as gpd\n",
    "columns = ['geometry']\n",
    "gdf_crossings = gpd.read_feather(GEOPANDAS_CROSSINGS_RESULT_FEATHER, columns=columns)\n",
    "gdf_no_crossing = gpd.read_feather(GEOPANDAS_NO_CROSSINGS_RESULT_FEATHER, columns=columns)\n",
    "gdf_crossings = gdf_crossings.assign(is_crossing=1)\n",
    "gdf_no_crossing = gdf_no_crossing.assign(is_crossing=0)\n",
    "crossings_count = len(gdf_crossings)\n",
    "crossings_absent = len(gdf_no_crossing)\n",
    "gdf = gdf_no_crossing.append(gdf_crossings)"
   ]
  },
  {
   "cell_type": "code",
   "execution_count": 32,
   "metadata": {},
   "outputs": [
    {
     "name": "stdout",
     "output_type": "stream",
     "text": [
      "gdf_crossings True\n",
      "gdf_no_crossing True\n",
      "                   geometry  is_crossing\n",
      "0  POINT (8.48187 47.37476)            0\n",
      "1  POINT (8.48176 47.37487)            0\n",
      "2  POINT (8.48167 47.37496)            0\n",
      "3  POINT (8.48150 47.37515)            0\n",
      "4  POINT (8.48120 47.37546)            0\n"
     ]
    }
   ],
   "source": [
    "# sanity check\n",
    "print(\"gdf_crossings\", len(gdf[gdf['is_crossing'] == 1]) == crossings_count)\n",
    "print(\"gdf_no_crossing\", len(gdf[gdf['is_crossing'] == 0]) == crossings_absent)\n",
    "print(gdf.head())"
   ]
  },
  {
   "cell_type": "code",
   "execution_count": 34,
   "metadata": {},
   "outputs": [
    {
     "name": "stderr",
     "output_type": "stream",
     "text": [
      "/tmp/ipykernel_2498/3410018899.py:1: UserWarning: this is an initial implementation of Parquet/Feather file support and associated metadata.  This is tracking version 0.1.0 of the metadata specification at https://github.com/geopandas/geo-arrow-spec\n",
      "\n",
      "This metadata specification does not yet make stability promises.  We do not yet recommend using this in a production setting unless you are able to rewrite your Parquet/Feather files.\n",
      "\n",
      "To further ignore this warning, you can do: \n",
      "import warnings; warnings.filterwarnings('ignore', message='.*initial implementation of Parquet.*')\n",
      "  gdf.to_feather(GEOPANDAS_LABELED_POSITIONS_FEATHER)\n"
     ]
    }
   ],
   "source": [
    "gdf.to_feather(GEOPANDAS_LABELED_POSITIONS_FEATHER)\n",
    "gdf.to_file(GEOPANDAS_LABELED_POSITIONS_GEOJSON, driver='GeoJSON')"
   ]
  },
  {
   "cell_type": "code",
   "execution_count": 35,
   "metadata": {},
   "outputs": [],
   "source": [
    "del gdf\n",
    "del gdf_no_crossing\n",
    "del gdf_crossings"
   ]
  },
  {
   "cell_type": "markdown",
   "metadata": {},
   "source": [
    "# create tiles"
   ]
  },
  {
   "cell_type": "code",
   "execution_count": 77,
   "metadata": {},
   "outputs": [],
   "source": [
    "# import constants and helpers\n",
    "%run Constants.ipynb\n",
    "\n",
    "# see Constants.ipynb to change start values/settings"
   ]
  },
  {
   "cell_type": "markdown",
   "metadata": {},
   "source": [
    "## prepare geometries\n",
    "\n",
    "Usage see next section"
   ]
  },
  {
   "cell_type": "code",
   "execution_count": 49,
   "metadata": {},
   "outputs": [],
   "source": [
    "import geopandas as gpd\n",
    "gdf = gpd.read_feather(GEOPANDAS_LABELED_POSITIONS_FEATHER)"
   ]
  },
  {
   "cell_type": "code",
   "execution_count": 75,
   "metadata": {},
   "outputs": [],
   "source": [
    "from shapely.geometry import Point, Polygon, shape\n",
    "\n",
    "def create_named_buffered_geoms(gdf):\n",
    "    buffered_geoms = []\n",
    "    names = []\n",
    "\n",
    "    for index, l in gdf.iterrows():\n",
    "        center = l.geometry.centroid\n",
    "        buff = buffered_shape(shape=l.geometry.centroid, radius_in_meters=(IMAGE_BUFFER_RADIUS_IN_METERS))\n",
    "        buffered_geoms.append(buff)\n",
    "        name = f\"{center.x}_{center.y}_is_crossing_{l.is_crossing}\"\n",
    "        names.append(name)\n",
    "    return dict(zip(names, buffered_geoms))"
   ]
  },
  {
   "cell_type": "code",
   "execution_count": 76,
   "metadata": {},
   "outputs": [
    {
     "data": {
      "text/plain": [
       "{'8.5204836_47.3006597_is_crossing_0': <shapely.geometry.polygon.Polygon at 0x7fe44b5dbfa0>,\n",
       " '9.1019966_47.1463966_is_crossing_0': <shapely.geometry.polygon.Polygon at 0x7fe49c27bb20>}"
      ]
     },
     "execution_count": 76,
     "metadata": {},
     "output_type": "execute_result"
    }
   ],
   "source": [
    "# sanity check\n",
    "create_named_buffered_geoms(gdf.sample(2))"
   ]
  },
  {
   "cell_type": "markdown",
   "metadata": {},
   "source": [
    "## Create virtual concatenated TIF Layer\n",
    "\n",
    "Using an vrt file.\n",
    "\n",
    "Currently, the files are in `LV95`."
   ]
  },
  {
   "cell_type": "code",
   "execution_count": 78,
   "metadata": {},
   "outputs": [],
   "source": [
    "# skip this step, if an vrt already exists\n",
    "if not INPUT_DATA_VRT.exists():\n",
    "    !cd $INPUT_TIF_PATH && gdalbuildvrt -a_srs $CRS_4326 $INPUT_DATA_VRT *.tif"
   ]
  },
  {
   "cell_type": "markdown",
   "metadata": {},
   "source": [
    "## create tifs"
   ]
  },
  {
   "cell_type": "markdown",
   "metadata": {},
   "source": [
    "### crossings"
   ]
  },
  {
   "cell_type": "code",
   "execution_count": 84,
   "metadata": {},
   "outputs": [],
   "source": [
    "selection = gdf[gdf['is_crossing'] == 1]\n",
    "filename_polygons = create_named_buffered_geoms(selection)"
   ]
  },
  {
   "cell_type": "code",
   "execution_count": 85,
   "metadata": {},
   "outputs": [
    {
     "name": "stdout",
     "output_type": "stream",
     "text": [
      "out of bounds\n",
      "Input shapes do not overlap raster.\n",
      "out of bounds\n",
      "Input shapes do not overlap raster.\n",
      "out of bounds\n",
      "Input shapes do not overlap raster.\n",
      "out of bounds\n",
      "Input shapes do not overlap raster.\n",
      "out of bounds\n",
      "Input shapes do not overlap raster.\n"
     ]
    }
   ],
   "source": [
    "# this takes very very long!\n",
    "out_image, out_transform = cut_image(INPUT_DATA_VRT, filename_polygon_dict=filename_polygons, destination_folder=IMAGES_TIF_FOLDER_CROSSINGS)"
   ]
  },
  {
   "cell_type": "markdown",
   "metadata": {},
   "source": [
    "### non-crossings"
   ]
  },
  {
   "cell_type": "code",
   "execution_count": 86,
   "metadata": {},
   "outputs": [],
   "source": [
    "selection = gdf[gdf['is_crossing'] == 0].sample(len(crossings))\n",
    "filename_polygons = create_named_buffered_geoms(selection)"
   ]
  },
  {
   "cell_type": "code",
   "execution_count": 87,
   "metadata": {},
   "outputs": [
    {
     "name": "stdout",
     "output_type": "stream",
     "text": [
      "out of bounds\n",
      "Input shapes do not overlap raster.\n",
      "out of bounds\n",
      "Input shapes do not overlap raster.\n",
      "out of bounds\n",
      "Input shapes do not overlap raster.\n",
      "out of bounds\n",
      "Input shapes do not overlap raster.\n",
      "out of bounds\n",
      "Input shapes do not overlap raster.\n",
      "out of bounds\n",
      "Input shapes do not overlap raster.\n",
      "out of bounds\n",
      "Input shapes do not overlap raster.\n",
      "out of bounds\n",
      "Input shapes do not overlap raster.\n",
      "out of bounds\n",
      "Input shapes do not overlap raster.\n",
      "out of bounds\n",
      "Input shapes do not overlap raster.\n",
      "out of bounds\n",
      "Input shapes do not overlap raster.\n",
      "out of bounds\n",
      "Input shapes do not overlap raster.\n",
      "out of bounds\n",
      "Input shapes do not overlap raster.\n",
      "out of bounds\n",
      "Input shapes do not overlap raster.\n",
      "out of bounds\n",
      "Input shapes do not overlap raster.\n",
      "out of bounds\n",
      "Input shapes do not overlap raster.\n",
      "out of bounds\n",
      "Input shapes do not overlap raster.\n",
      "out of bounds\n",
      "Input shapes do not overlap raster.\n",
      "out of bounds\n",
      "Input shapes do not overlap raster.\n",
      "out of bounds\n",
      "Input shapes do not overlap raster.\n",
      "out of bounds\n",
      "Input shapes do not overlap raster.\n",
      "out of bounds\n",
      "Input shapes do not overlap raster.\n",
      "out of bounds\n",
      "Input shapes do not overlap raster.\n",
      "out of bounds\n",
      "Input shapes do not overlap raster.\n",
      "out of bounds\n",
      "Input shapes do not overlap raster.\n",
      "out of bounds\n",
      "Input shapes do not overlap raster.\n",
      "out of bounds\n",
      "Input shapes do not overlap raster.\n",
      "out of bounds\n",
      "Input shapes do not overlap raster.\n",
      "out of bounds\n",
      "Input shapes do not overlap raster.\n",
      "out of bounds\n",
      "Input shapes do not overlap raster.\n"
     ]
    }
   ],
   "source": [
    "# this takes very very long!\n",
    "out_image, out_transform = cut_image(INPUT_DATA_VRT, filename_polygon_dict=filename_polygons, destination_folder=IMAGES_TIF_FOLDER_OTHER)"
   ]
  }
 ],
 "metadata": {
  "kernelspec": {
   "display_name": "Python 3 (ipykernel)",
   "language": "python",
   "name": "python3"
  },
  "language_info": {
   "codemirror_mode": {
    "name": "ipython",
    "version": 3
   },
   "file_extension": ".py",
   "mimetype": "text/x-python",
   "name": "python",
   "nbconvert_exporter": "python",
   "pygments_lexer": "ipython3",
   "version": "3.9.7"
  },
  "toc-autonumbering": false
 },
 "nbformat": 4,
 "nbformat_minor": 4
}

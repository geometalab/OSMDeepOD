{
 "cells": [
  {
   "cell_type": "code",
   "execution_count": 52,
   "id": "ef967cee-4ee1-4f27-82a3-af440588e37e",
   "metadata": {},
   "outputs": [
    {
     "name": "stdout",
     "output_type": "stream",
     "text": [
      "is GPU available: False\n"
     ]
    }
   ],
   "source": [
    "# import constants and helpers\n",
    "%run 000_Constants.ipynb"
   ]
  },
  {
   "cell_type": "code",
   "execution_count": 53,
   "id": "9af7526c-2bbe-47e4-aefd-835eeae714af",
   "metadata": {},
   "outputs": [
    {
     "name": "stdout",
     "output_type": "stream",
     "text": [
      "grouped zebracrossings:\n",
      "[count of crossings in an image, count of images)]\n",
      "1    2949\n",
      "2    2659\n",
      "3     612\n",
      "4     199\n",
      "5      28\n",
      "6       5\n",
      "Name: geometry, dtype: int64\n",
      "\n",
      "total number of zebracrossings: 11069\n"
     ]
    }
   ],
   "source": [
    "count_processed_zebracrossings()"
   ]
  },
  {
   "cell_type": "code",
   "execution_count": 54,
   "id": "4490a885-68ab-4235-8a2a-d57f77eee649",
   "metadata": {},
   "outputs": [
    {
     "data": {
      "text/plain": [
       "11069"
      ]
     },
     "execution_count": 54,
     "metadata": {},
     "output_type": "execute_result"
    }
   ],
   "source": [
    "2949 + 2 * 2659 + 3 * 612 + 4 * 199 + 5* 28 + 6 * 5"
   ]
  },
  {
   "cell_type": "code",
   "execution_count": null,
   "id": "2eb16deb-59c7-4160-80b3-620337ff0803",
   "metadata": {},
   "outputs": [],
   "source": []
  }
 ],
 "metadata": {
  "kernelspec": {
   "display_name": "Python 3 (ipykernel)",
   "language": "python",
   "name": "python3"
  },
  "language_info": {
   "codemirror_mode": {
    "name": "ipython",
    "version": 3
   },
   "file_extension": ".py",
   "mimetype": "text/x-python",
   "name": "python",
   "nbconvert_exporter": "python",
   "pygments_lexer": "ipython3",
   "version": "3.9.7"
  }
 },
 "nbformat": 4,
 "nbformat_minor": 5
}

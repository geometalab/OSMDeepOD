{
 "cells": [
  {
   "cell_type": "markdown",
   "id": "8fa48436-5ac7-46ed-b083-54602416dfb3",
   "metadata": {},
   "source": [
    "# Constants\n",
    "\n"
   ]
  },
  {
   "cell_type": "code",
   "execution_count": null,
   "id": "d654ee7f-7faf-40b2-9a5c-d91093318f14",
   "metadata": {},
   "outputs": [],
   "source": [
    "# import constants and helpers\n",
    "\n",
    "%run Helpers.ipynb\n",
    "\n",
    "from pathlib import Path\n",
    "\n",
    "# 1 pixel per 10cm on the ground, meaning we get 100 pixels per square meter\n",
    "IMAGE_BUFFER_RADIUS_IN_METERS = 25\n",
    "# which distance should be in between locations where crossings are found\n",
    "AVOIDING_CROSSINGS_BUFFER_IN_METERS = 100\n",
    "\n",
    "# ganze ostschweiz\n",
    "INPUT_TIF_PATH = Path('/test-data/SWISSIMAGE_RS/')\n",
    "INPUT_DATA_VRT = (INPUT_TIF_PATH / \"ostschweiz.vrt\").absolute()\n",
    "\n",
    "DEST_FOLDER = Path(Path('pre-processing-data/').absolute())\n",
    "OSM_PBF_FOLDER = DEST_FOLDER / \"pbf\"\n",
    "OSM_PBF_DEST = OSM_PBF_FOLDER / \"switzerland.pbf\"\n",
    "\n",
    "IMAGES_FOLDER = DEST_FOLDER / \"images\"\n",
    "IMAGES_TIF_FOLDER = IMAGES_FOLDER / \"source\"\n",
    "IMAGES_TIF_FOLDER_CROSSINGS = IMAGES_TIF_FOLDER / \"crossings\"\n",
    "IMAGES_TIF_FOLDER_OTHER = IMAGES_TIF_FOLDER / \"other\"\n",
    "\n",
    "GEOPANDAS_CROSSINGS_RESULT_FEATHER = DEST_FOLDER / \"crossings.feather\"\n",
    "GEOPANDAS_CROSSINGS_RESULT_GEOJSON = DEST_FOLDER / \"crossings.geojson\"\n",
    "GEOPANDAS_NO_CROSSINGS_RESULT_FEATHER = DEST_FOLDER / \"crossings_absent.feather\"\n",
    "GEOPANDAS_NO_CROSSINGS_RESULT_GEOJSON = DEST_FOLDER / \"crossings_absent.geojson\"\n",
    "GEOPANDAS_LABELED_POSITIONS_FEATHER = DEST_FOLDER / \"positions_with_crossing_label.feather\"\n",
    "GEOPANDAS_LABELED_POSITIONS_GEOJSON = DEST_FOLDER / \"positions_with_crossing_label.geojson\""
   ]
  },
  {
   "cell_type": "code",
   "execution_count": null,
   "id": "40d88cb0-fb51-4974-9d8a-3f987f415991",
   "metadata": {},
   "outputs": [],
   "source": [
    "if not DEST_FOLDER.exists():\n",
    "    !mkdir -p $DEST_FOLDER\n",
    "\n",
    "if not OSM_PBF_FOLDER.exists():\n",
    "    !mkdir -p $OSM_PBF_FOLDER\n",
    "\n",
    "if not IMAGES_TIF_FOLDER_CROSSINGS.exists():\n",
    "    !mkdir -p $IMAGES_TIF_FOLDER_CROSSINGS\n",
    "\n",
    "if not IMAGES_TIF_FOLDER_OTHER.exists():\n",
    "    !mkdir -p $IMAGES_TIF_FOLDER_OTHER"
   ]
  },
  {
   "cell_type": "code",
   "execution_count": null,
   "id": "618e4b55-2457-4b46-b2ba-f7284e5b9f21",
   "metadata": {},
   "outputs": [],
   "source": [
    "def fetch_pbf():\n",
    "    if not OSM_PBF_DEST.exists():\n",
    "        !wget -O $OSM_PBF_DEST https://planet.osm.ch/switzerland-padded.osm.pbf"
   ]
  }
 ],
 "metadata": {
  "kernelspec": {
   "display_name": "Python 3 (ipykernel)",
   "language": "python",
   "name": "python3"
  },
  "language_info": {
   "codemirror_mode": {
    "name": "ipython",
    "version": 3
   },
   "file_extension": ".py",
   "mimetype": "text/x-python",
   "name": "python",
   "nbconvert_exporter": "python",
   "pygments_lexer": "ipython3",
   "version": "3.9.7"
  }
 },
 "nbformat": 4,
 "nbformat_minor": 5
}

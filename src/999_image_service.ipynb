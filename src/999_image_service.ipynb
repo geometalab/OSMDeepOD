{
 "cells": [
  {
   "cell_type": "code",
   "execution_count": 1,
   "id": "bad54567-fbc4-4325-b296-c12f54f90bcf",
   "metadata": {},
   "outputs": [],
   "source": [
    "# See https://gist.github.com/raveenb/c0001484a79214c21785227d0688f57f for details"
   ]
  },
  {
   "cell_type": "code",
   "execution_count": 5,
   "id": "410ff1c9-997f-4c0c-a3d0-842251ab84fe",
   "metadata": {
    "tags": []
   },
   "outputs": [
    {
     "name": "stdout",
     "output_type": "stream",
     "text": [
      "is GPU available: False\n"
     ]
    }
   ],
   "source": [
    "# import constants and helpers\n",
    "%run 000_Constants.ipynb"
   ]
  },
  {
   "cell_type": "code",
   "execution_count": 6,
   "id": "adb559c3-06f6-463d-901f-39275ac88d6a",
   "metadata": {
    "tags": []
   },
   "outputs": [],
   "source": [
    "def assemble_unchecked_images():\n",
    "    possible_crossings = IMAGES_TIF_FOLDER_CROSSINGS.glob(\"*.tif\")\n",
    "\n",
    "    validated_images = get_validated_images()\n",
    "    ims_to_validate = []\n",
    "\n",
    "    for pci in possible_crossings:\n",
    "        if pci.name not in [r['image_name'] for r in validated_images]:\n",
    "            ims_to_validate.append(pci)\n",
    "\n",
    "    del validated_images\n",
    "    del possible_crossings\n",
    "\n",
    "    return iter(ims_to_validate)\n",
    "\n",
    "not_validated_images = assemble_unchecked_images()\n",
    "\n",
    "def get_not_yet_validated_image():\n",
    "    global not_validated_images\n",
    "    try:\n",
    "        return next(not_validated_images)\n",
    "    except Exception as e:\n",
    "        print(e)\n",
    "        try:\n",
    "            not_validated_images = assemble_unchecked_images()\n",
    "            return next(not_validated_images)\n",
    "        except:\n",
    "            return None\n",
    "    return None\n"
   ]
  },
  {
   "cell_type": "code",
   "execution_count": 7,
   "id": "28a69cf7-bea8-479d-892b-c2255a5c12a0",
   "metadata": {},
   "outputs": [],
   "source": [
    "# app\n",
    "\n",
    "from fastapi import FastAPI\n",
    "from pydantic import BaseModel\n",
    "\n",
    "app = FastAPI()\n",
    "\n",
    "@app.get(\"/check\")\n",
    "def check_status():\n",
    "    return {\"ok\": \"yes, I'm alright\"}\n",
    "\n",
    "@app.get(\"/next-image\")\n",
    "def get_new_image():\n",
    "    return {\"image\": get_not_yet_validated_image()}\n"
   ]
  },
  {
   "cell_type": "code",
   "execution_count": 8,
   "id": "f83e8b13-f269-4a32-99f7-b4b52d9f7aae",
   "metadata": {},
   "outputs": [
    {
     "name": "stderr",
     "output_type": "stream",
     "text": [
      "INFO:     Started server process [62]\n",
      "INFO:     Waiting for application startup.\n",
      "INFO:     Application startup complete.\n",
      "INFO:     Uvicorn running on http://0.0.0.0:8123 (Press CTRL+C to quit)\n"
     ]
    },
    {
     "name": "stdout",
     "output_type": "stream",
     "text": [
      "INFO:     127.0.0.1:43512 - \"GET /check HTTP/1.1\" 200 OK\n",
      "INFO:     127.0.0.1:43514 - \"GET /next-image HTTP/1.1\" 200 OK\n",
      "INFO:     127.0.0.1:43516 - \"GET /next-image HTTP/1.1\" 200 OK\n",
      "INFO:     127.0.0.1:43518 - \"GET /next-image HTTP/1.1\" 200 OK\n",
      "INFO:     127.0.0.1:43520 - \"GET /next-image HTTP/1.1\" 200 OK\n",
      "INFO:     127.0.0.1:43522 - \"GET /next-image HTTP/1.1\" 200 OK\n",
      "INFO:     127.0.0.1:43524 - \"GET /next-image HTTP/1.1\" 200 OK\n",
      "INFO:     127.0.0.1:43526 - \"GET /next-image HTTP/1.1\" 200 OK\n",
      "INFO:     127.0.0.1:43528 - \"GET /next-image HTTP/1.1\" 200 OK\n",
      "INFO:     127.0.0.1:43530 - \"GET /next-image HTTP/1.1\" 200 OK\n",
      "INFO:     127.0.0.1:43532 - \"GET /next-image HTTP/1.1\" 200 OK\n"
     ]
    },
    {
     "name": "stderr",
     "output_type": "stream",
     "text": [
      "INFO:     Shutting down\n",
      "INFO:     Waiting for application shutdown.\n",
      "INFO:     Application shutdown complete.\n",
      "INFO:     Finished server process [62]\n"
     ]
    }
   ],
   "source": [
    "import nest_asyncio\n",
    "import uvicorn\n",
    "\n",
    "nest_asyncio.apply()\n",
    "uvicorn.run(app, port=8123, host=\"0.0.0.0\")"
   ]
  },
  {
   "cell_type": "code",
   "execution_count": null,
   "id": "9ddf810e-0008-4c57-8d9b-6abcb9264bb9",
   "metadata": {},
   "outputs": [],
   "source": []
  }
 ],
 "metadata": {
  "kernelspec": {
   "display_name": "Python 3 (ipykernel)",
   "language": "python",
   "name": "python3"
  },
  "language_info": {
   "codemirror_mode": {
    "name": "ipython",
    "version": 3
   },
   "file_extension": ".py",
   "mimetype": "text/x-python",
   "name": "python",
   "nbconvert_exporter": "python",
   "pygments_lexer": "ipython3",
   "version": "3.9.7"
  }
 },
 "nbformat": 4,
 "nbformat_minor": 5
}

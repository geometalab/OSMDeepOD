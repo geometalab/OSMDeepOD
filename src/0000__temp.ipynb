{
 "cells": [
  {
   "cell_type": "code",
   "execution_count": 1,
   "id": "e21bd687-e859-4660-81f9-b9d6495eaeb6",
   "metadata": {},
   "outputs": [],
   "source": [
    "from fastai.vision.all import *"
   ]
  },
  {
   "cell_type": "code",
   "execution_count": 2,
   "id": "08641162-89af-4cea-9e0f-49a683a28055",
   "metadata": {},
   "outputs": [
    {
     "data": {
      "text/html": [
       "\n",
       "    <div>\n",
       "        <style>\n",
       "            /* Turns off some styling */\n",
       "            progress {\n",
       "                /* gets rid of default border in Firefox and Opera. */\n",
       "                border: none;\n",
       "                /* Needs to be in here for Safari polyfill so background images work as expected. */\n",
       "                background-size: auto;\n",
       "            }\n",
       "            .progress-bar-interrupted, .progress-bar-interrupted::-webkit-progress-bar {\n",
       "                background: #F44336;\n",
       "            }\n",
       "        </style>\n",
       "      <progress value='2318336' class='' max='2314212' style='width:300px; height:20px; vertical-align: middle;'></progress>\n",
       "      100.18% [2318336/2314212 00:01<00:00]\n",
       "    </div>\n",
       "    "
      ],
      "text/plain": [
       "<IPython.core.display.HTML object>"
      ]
     },
     "metadata": {},
     "output_type": "display_data"
    }
   ],
   "source": [
    "path = untar_data(URLs.CAMVID_TINY)"
   ]
  },
  {
   "cell_type": "code",
   "execution_count": 3,
   "id": "9303ba77-ab2b-4ac5-ac8d-b557de724ba9",
   "metadata": {},
   "outputs": [
    {
     "data": {
      "text/plain": [
       "Path('/home/jovyan/.fastai/data/camvid_tiny')"
      ]
     },
     "execution_count": 3,
     "metadata": {},
     "output_type": "execute_result"
    }
   ],
   "source": [
    "path"
   ]
  },
  {
   "cell_type": "code",
   "execution_count": 8,
   "id": "8d057b64-4388-440d-b4a0-afcc8c174c2c",
   "metadata": {},
   "outputs": [],
   "source": [
    "im = (path / 'labels' ).ls()[0]"
   ]
  },
  {
   "cell_type": "code",
   "execution_count": 11,
   "id": "5746663c-6efb-4136-8b8e-fa7efb941c37",
   "metadata": {},
   "outputs": [
    {
     "data": {
      "text/plain": [
       "Path('/home/jovyan/.fastai/data/camvid_tiny/labels/0006R0_f02550_P.png')"
      ]
     },
     "execution_count": 11,
     "metadata": {},
     "output_type": "execute_result"
    }
   ],
   "source": [
    "im"
   ]
  },
  {
   "cell_type": "code",
   "execution_count": 13,
   "id": "30553f5b-dc01-4561-ad5e-3d29c280a14a",
   "metadata": {},
   "outputs": [
    {
     "name": "stdout",
     "output_type": "stream",
     "text": [
      "'/home/jovyan/.fastai/data/camvid_tiny/labels/0006R0_f02550_P.png' -> '/home/jovyan/work/OSMDeepOD/src/pre-processing-data/images/0006R0_f02550_P.png'\n"
     ]
    }
   ],
   "source": [
    "!cp -v /home/jovyan/.fastai/data/camvid_tiny/labels/0006R0_f02550_P.png /home/jovyan/work/OSMDeepOD/src/pre-processing-data/images/"
   ]
  },
  {
   "cell_type": "code",
   "execution_count": null,
   "id": "f2cddea8-e543-4331-9815-f9044c9a4cdf",
   "metadata": {},
   "outputs": [],
   "source": []
  }
 ],
 "metadata": {
  "kernelspec": {
   "display_name": "Python 3 (ipykernel)",
   "language": "python",
   "name": "python3"
  },
  "language_info": {
   "codemirror_mode": {
    "name": "ipython",
    "version": 3
   },
   "file_extension": ".py",
   "mimetype": "text/x-python",
   "name": "python",
   "nbconvert_exporter": "python",
   "pygments_lexer": "ipython3",
   "version": "3.9.7"
  }
 },
 "nbformat": 4,
 "nbformat_minor": 5
}
